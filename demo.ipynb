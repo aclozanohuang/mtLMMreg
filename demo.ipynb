{
 "cells": [
  {
   "cell_type": "code",
   "execution_count": 1,
   "metadata": {},
   "outputs": [],
   "source": [
    "# Make sure the following packages are installed as we rely on limmbo for covariance estimation!\n",
    "#pip3 install \"limix<2\"\n",
    "\n",
    "\n",
    "import pandas as pd\n",
    "from scipy import linalg\n",
    "import torch\n",
    "from sklearn import linear_model"
   ]
  },
  {
   "cell_type": "code",
   "execution_count": 2,
   "metadata": {},
   "outputs": [],
   "source": [
    "import numpy as np\n",
    "from sklearn.metrics import mean_squared_error\n",
    "\n",
    "#import model\n",
    "from imp import reload\n",
    "#reload model"
   ]
  },
  {
   "cell_type": "code",
   "execution_count": 3,
   "metadata": {},
   "outputs": [],
   "source": [
    "from pkg_resources import resource_filename\n",
    "from limmbo.io.reader import ReadData\n",
    "from limmbo.io.input import InputData"
   ]
  },
  {
   "cell_type": "code",
   "execution_count": 4,
   "metadata": {},
   "outputs": [],
   "source": [
    "from limmbo.core.vdsimple import vd_reml   "
   ]
  },
  {
   "cell_type": "code",
   "execution_count": 6,
   "metadata": {},
   "outputs": [],
   "source": [
    "from regmtlmm.twclust import twclust"
   ]
  },
  {
   "cell_type": "code",
   "execution_count": 10,
   "metadata": {},
   "outputs": [],
   "source": [
    "#Reading input data: phenotype matrix, genotype matrix, relatedness matrix \n",
    "\n",
    "data = ReadData(verbose=False)\n",
    "\n",
    "file_pheno = resource_filename('limmbo','io/test/data/pheno.csv')\n",
    "file_geno = resource_filename('limmbo', 'io/test/data/genotypes.csv')\n",
    "file_relatedness = resource_filename('limmbo','io/test/data/relatedness.csv')"
   ]
  },
  {
   "cell_type": "code",
   "execution_count": 11,
   "metadata": {},
   "outputs": [],
   "source": [
    "data.getPhenotypes(file_pheno=file_pheno)\n",
    "data.getRelatedness(file_relatedness=file_relatedness,delim=\",\")\n",
    "data.getGenotypes(file_genotypes=file_geno)"
   ]
  },
  {
   "cell_type": "code",
   "execution_count": 12,
   "metadata": {},
   "outputs": [],
   "source": [
    "indata = InputData(verbose=False)\n",
    "indata.addPhenotypes(phenotypes = data.phenotypes)"
   ]
  },
  {
   "cell_type": "code",
   "execution_count": 13,
   "metadata": {},
   "outputs": [],
   "source": [
    "relatedness=pd.io.parsers.read_csv(file_relatedness,sep=',')"
   ]
  },
  {
   "cell_type": "code",
   "execution_count": 14,
   "metadata": {},
   "outputs": [],
   "source": [
    "relatedness.index = relatedness.columns"
   ]
  },
  {
   "cell_type": "code",
   "execution_count": 15,
   "metadata": {},
   "outputs": [],
   "source": [
    "indata.addRelatedness(relatedness = relatedness)"
   ]
  },
  {
   "cell_type": "code",
   "execution_count": 16,
   "metadata": {},
   "outputs": [],
   "source": [
    "indata.addGenotypes(genotypes=data.genotypes,genotypes_info=data.genotypes_info)\n",
    "indata.commonSamples()\n",
    "#indata.transform(transform=\"scale\")"
   ]
  },
  {
   "cell_type": "code",
   "execution_count": 17,
   "metadata": {},
   "outputs": [],
   "source": [
    "#Getting eigenvectors and eigenvalues of relatedness matrix\n",
    "from numpy import linalg as LA\n",
    "indata.S_R, indata.U_R = LA.eig(relatedness)\n",
    "\n"
   ]
  },
  {
   "cell_type": "code",
   "execution_count": 18,
   "metadata": {},
   "outputs": [],
   "source": [
    "n=indata.phenotypes.shape[0]  #sample size\n",
    "q=indata.phenotypes.shape[1]  #num phenotypes\n",
    "p=indata.genotypes.shape[1]   #num genotypes"
   ]
  },
  {
   "cell_type": "code",
   "execution_count": 19,
   "metadata": {},
   "outputs": [
    {
     "data": {
      "text/plain": [
       "10"
      ]
     },
     "execution_count": 19,
     "metadata": {},
     "output_type": "execute_result"
    }
   ],
   "source": [
    "q"
   ]
  },
  {
   "cell_type": "code",
   "execution_count": 20,
   "metadata": {},
   "outputs": [],
   "source": [
    "#computing kronecker product of identity with genotype matrix\n",
    "x= indata.genotypes.to_numpy()\n",
    "X= np.kron(np.identity(q),x)\n",
    "\n",
    "#vectorizing the phenotype matrix\n",
    "Y=indata.phenotypes.to_numpy()\n",
    "y=np.matrix.flatten(Y,'F')"
   ]
  },
  {
   "cell_type": "markdown",
   "metadata": {},
   "source": [
    "# mtLMM-L1"
   ]
  },
  {
   "cell_type": "code",
   "execution_count": 21,
   "metadata": {},
   "outputs": [
    {
     "name": "stdout",
     "output_type": "stream",
     "text": [
      "Iteration 0\n"
     ]
    }
   ],
   "source": [
    "maxiter=1\n",
    "\n",
    "\n",
    "for i in range(maxiter):\n",
    "    print('Iteration {}'.format(i))\n",
    "    # 1) Given fixed effects, estimate covariance matrices based on standard REML\n",
    "    #for larger number of phenotypes, use limmbo bootstrapped version instead\n",
    "    Cg, Cn, ptime = vd_reml(indata, verbose=False)\n",
    "    \n",
    "    # 2) Given covariance matrices, fit fixed effects using L1 regularization\n",
    "    H=np.kron(indata.relatedness,Cg)+np.kron(np.ones((n,n)),Cn)\n",
    "    H_cpu = torch.tensor(H, device='cpu')\n",
    "    Hinv_cpu = torch.inverse(H_cpu)\n",
    "    Hinv_cpu_s = torch.cholesky(Hinv_cpu)\n",
    "    Hinv_s = Hinv_cpu_s.numpy()\n",
    "    \n",
    "    ytilde=Hinv_s @ y\n",
    "    Xtilde=Hinv_s @ X\n",
    "    \n",
    "    # running lasso regression with desired sparsity level (here alpha=0.2)\n",
    "    clf=linear_model.Lasso(alpha=0.2,fit_intercept=False)\n",
    "    clf.fit(X=Xtilde,y=ytilde)\n",
    "    \n",
    "    beta=np.reshape(clf.coef_,(p,q),'F')\n",
    "    \n",
    "    #update residuals for new cova estimation step\n",
    "    newY=Y-x@beta\n",
    "    indata.phenotypes= pd.DataFrame(newY, index=indata.pheno_samples,\n",
    "                                       columns=indata.phenotype_ID)\n",
    "\n"
   ]
  },
  {
   "cell_type": "code",
   "execution_count": 49,
   "metadata": {},
   "outputs": [
    {
     "data": {
      "text/plain": [
       "248.879183"
      ]
     },
     "execution_count": 49,
     "metadata": {},
     "output_type": "execute_result"
    }
   ],
   "source": [
    "myprocn"
   ]
  },
  {
   "cell_type": "markdown",
   "metadata": {},
   "source": [
    "# mtLMM-clust"
   ]
  },
  {
   "cell_type": "code",
   "execution_count": 16,
   "metadata": {},
   "outputs": [
    {
     "name": "stdout",
     "output_type": "stream",
     "text": [
      "Iteration 0\n",
      "Iteration 1\n",
      "Iteration 2\n",
      "Iteration 3\n",
      "Iteration 4\n",
      "Iteration 5\n",
      "Iteration 6\n",
      "Iteration 7\n",
      "Iteration 8\n",
      "Iteration 9\n"
     ]
    }
   ],
   "source": [
    "maxiter=10\n",
    "for i in range(maxiter):\n",
    "    print('Iteration {}'.format(i))\n",
    "    #Given fixed effects, estimate covariance matrices based on standard REML\n",
    "    #for larger number of phenotypes, use limmbo bootstrapped version instead\n",
    "    Cg, Cn, ptime = vd_reml(indata, verbose=False)\n",
    "    \n",
    "    #Given covariance matrices, fit fixed effects using L1 regularization\n",
    "    H=np.kron(indata.relatedness,Cg)+np.kron(np.ones((n,n)),Cn)\n",
    "    H_cpu = torch.tensor(H, device='cpu')\n",
    "    Hinv_cpu = torch.inverse(H_cpu)\n",
    "    Hinv_cpu_s = torch.cholesky(Hinv_cpu)\n",
    "    Hinv_s = Hinv_cpu_s.numpy()\n",
    "    \n",
    "    ytilde=Hinv_s @ y\n",
    "    Xtilde=Hinv_s @ X\n",
    "    \n",
    "    #running regularized estination with trait-wise clustering \n",
    "    estimator = twclust(p=p, n=n, K=q)\n",
    "    theta_hat = estimator.fit(Xtilde, ytilde, C1=1000, C2=2000, gamma=0.003, maxiter=1000)\n",
    "    beta = estimator.Theta\n",
    "    \n",
    "    #update residuals for new cova estimation step\n",
    "    newY=Y-x@beta\n",
    "    indata.phenotypes= pd.DataFrame(newY, index=indata.pheno_samples,\n",
    "                                       columns=indata.phenotype_ID)\n",
    "\n"
   ]
  },
  {
   "cell_type": "code",
   "execution_count": 17,
   "metadata": {},
   "outputs": [
    {
     "data": {
      "text/plain": [
       "array([[ 1.04123795e-02, -1.04082882e-03, -8.06553435e-02,\n",
       "        -1.30223443e-01,  1.27443810e-01, -2.23887714e-02,\n",
       "         9.69707630e-02, -4.32734895e-02,  1.96394280e-03,\n",
       "         4.34679012e-02],\n",
       "       [ 1.47395009e-03, -2.79325743e-01,  5.26374363e-02,\n",
       "         1.24200115e-01, -1.53963775e-01, -2.60243156e-02,\n",
       "         1.06121736e-02,  2.08744732e-01,  1.38817209e-01,\n",
       "        -1.92121278e-01],\n",
       "       [ 3.19078419e-02, -6.40377066e-04, -4.26615789e-02,\n",
       "        -1.91488667e-01,  2.29847538e-01, -6.07065946e-02,\n",
       "         1.61031452e-01, -4.31601636e-02,  6.69850911e-02,\n",
       "         5.56273170e-03],\n",
       "       [-9.93713088e-02,  3.40074922e-01, -1.50365492e-01,\n",
       "         9.90726279e-02, -3.96781341e-01,  3.37294665e-02,\n",
       "         1.77614669e-01, -1.61948888e-01,  2.55481949e-01,\n",
       "        -2.91253189e-01],\n",
       "       [-6.01146353e-02,  1.25278072e-01, -1.55196474e-01,\n",
       "         8.95903716e-02, -2.37234581e-01,  1.44358366e-01,\n",
       "         8.58287845e-02, -3.37939094e-02, -3.06732944e-02,\n",
       "        -1.50934665e-01],\n",
       "       [ 1.80470165e-01,  2.03781532e-01,  2.87247779e-01,\n",
       "        -8.04374811e-02,  1.36612620e-01, -8.89076531e-02,\n",
       "        -1.24311311e-01,  3.54013811e-02, -1.34901579e-01,\n",
       "         1.53958976e-01],\n",
       "       [-5.41928693e-02, -1.61473621e-01,  4.92464116e-02,\n",
       "         9.36282918e-02, -1.42875033e-02, -2.01002023e-02,\n",
       "        -3.77343889e-01,  1.46000305e-01,  2.94522602e-02,\n",
       "         2.87645778e-02],\n",
       "       [-3.25092294e-02, -1.24395264e-01, -7.14152963e-02,\n",
       "         3.81022541e-02,  1.36330000e-01,  5.72657206e-02,\n",
       "         5.34224907e-01, -1.61817028e-01,  3.79868293e-02,\n",
       "         4.75795899e-02],\n",
       "       [ 8.51861734e-02, -1.45487233e-01, -4.16062335e-02,\n",
       "        -1.93999241e-02,  2.22790624e-01, -1.75281645e-01,\n",
       "        -6.09606484e-02,  3.43534005e-02,  1.18304947e-01,\n",
       "         3.51313871e-02],\n",
       "       [-8.80310015e-02,  8.15956654e-02, -1.75243675e-01,\n",
       "        -1.72417275e-03, -1.05944721e-01,  4.78733251e-02,\n",
       "         1.66679947e-01, -2.27459803e-01,  1.04405963e-01,\n",
       "        -1.09789563e-01],\n",
       "       [ 2.58682142e-02, -6.51955863e-02,  2.78867472e-02,\n",
       "         1.08801381e-01, -4.76981392e-02,  2.07583399e-03,\n",
       "         7.42057805e-02,  1.01441945e-01,  6.53798834e-02,\n",
       "        -7.36464831e-02],\n",
       "       [ 3.56881837e-02,  4.83727929e-01,  2.57216123e-01,\n",
       "        -1.15656079e-01,  7.19656889e-02, -6.78243526e-02,\n",
       "        -6.91917723e-01, -6.80900455e-02, -4.05719086e-03,\n",
       "        -1.82617942e-01],\n",
       "       [ 1.43165751e-02,  2.97800542e-02,  3.29457478e-02,\n",
       "         2.13479303e-02,  1.11411594e-02, -6.95014439e-02,\n",
       "        -1.06991151e-01,  7.45464066e-02, -1.94428708e-02,\n",
       "         4.27410039e-02],\n",
       "       [-9.07658850e-02, -9.86148824e-02, -8.69689913e-02,\n",
       "         2.51537239e-03,  2.47453459e-01,  4.62323273e-03,\n",
       "         3.25676045e-01,  1.90046874e-01, -1.12177121e-01,\n",
       "         5.26123497e-02],\n",
       "       [-5.58192545e-02,  3.39794529e-03,  2.69375464e-01,\n",
       "         1.00785767e-01, -3.73579563e-02,  3.63373288e-03,\n",
       "        -2.25346109e-01,  1.42143631e-01, -9.25694749e-02,\n",
       "        -3.22108027e-02],\n",
       "       [-1.87448459e-02, -3.45656190e-01, -8.32107590e-02,\n",
       "        -4.67147179e-02,  1.60220249e-02,  3.78452003e-02,\n",
       "         1.71670380e-01,  1.71597832e-01,  4.56715099e-02,\n",
       "         6.85386191e-02],\n",
       "       [ 6.43461709e-02, -7.81412593e-02, -3.61751433e-02,\n",
       "        -9.27333398e-02,  2.55293456e-01, -2.98326173e-02,\n",
       "         1.51540240e-01, -1.61271668e-01, -4.43562223e-02,\n",
       "         7.46919572e-02],\n",
       "       [ 5.87693212e-02,  2.07698134e-01, -4.32409421e-04,\n",
       "         1.58985231e-01, -2.00247258e-01, -4.82930577e-02,\n",
       "         2.96221297e-02, -2.46106429e-01,  9.44559477e-02,\n",
       "        -2.14835611e-01],\n",
       "       [-1.37678874e-02,  1.78499583e-01,  1.01262338e-01,\n",
       "        -5.33413952e-02, -2.97728935e-01,  8.77787918e-02,\n",
       "         1.59272206e-02, -1.44740378e-02, -7.52492035e-02,\n",
       "        -7.31109427e-02],\n",
       "       [ 2.81239988e-02, -1.30549218e-01, -2.50277400e-01,\n",
       "        -2.57483431e-03,  3.43815792e-01, -4.01267805e-03,\n",
       "         7.82109399e-02,  1.19856297e-01, -1.34029043e-01,\n",
       "         2.03394852e-01]])"
      ]
     },
     "execution_count": 17,
     "metadata": {},
     "output_type": "execute_result"
    }
   ],
   "source": [
    "#displaying pxq fixed effect matrix\n",
    "beta"
   ]
  },
  {
   "cell_type": "markdown",
   "metadata": {},
   "source": [
    "# testing stuff"
   ]
  },
  {
   "cell_type": "code",
   "execution_count": 16,
   "metadata": {},
   "outputs": [],
   "source": [
    "Cg, Cn, ptime = vd_reml(indata, verbose=False)\n",
    "    \n",
    "#Given covariance matrices, fit fixed effects using L1 regularization\n",
    "H=np.kron(indata.relatedness,Cg)+np.kron(np.ones((n,n)),Cn)\n",
    "H_cpu = torch.tensor(H, device='cpu')\n",
    "Hinv_cpu = torch.inverse(H_cpu)\n",
    "Hinv_cpu_s = torch.cholesky(Hinv_cpu)\n",
    "Hinv_s = Hinv_cpu_s.numpy()\n",
    "    \n",
    "ytilde=Hinv_s @ y\n",
    "Xtilde=Hinv_s @ X"
   ]
  },
  {
   "cell_type": "code",
   "execution_count": 17,
   "metadata": {},
   "outputs": [],
   "source": [
    "estimator = twclust(p=p, n=n, K=q)"
   ]
  },
  {
   "cell_type": "code",
   "execution_count": 18,
   "metadata": {},
   "outputs": [],
   "source": [
    "theta_hat = estimator.fit(Xtilde, ytilde, C1=1000, C2=2000, gamma=0.003)\n",
    "    "
   ]
  },
  {
   "cell_type": "code",
   "execution_count": 19,
   "metadata": {},
   "outputs": [
    {
     "data": {
      "text/plain": [
       "array([[ 0.0554274 , -0.07064992, -0.00136169, -0.17422341,  0.16169661,\n",
       "        -0.00417551, -0.00143251, -0.05476136, -0.0025866 ,  0.07545721],\n",
       "       [-0.02877624, -0.24460239,  0.18237792,  0.12683426, -0.1461757 ,\n",
       "        -0.03831001,  0.0352806 ,  0.21527217,  0.11132022, -0.25816572],\n",
       "       [ 0.03576174, -0.03121809, -0.13155619, -0.11403586,  0.24266137,\n",
       "        -0.06315243,  0.19213139,  0.0047201 , -0.0021846 , -0.04938717],\n",
       "       [-0.0602393 ,  0.48084305, -0.24229579,  0.08899356, -0.18095254,\n",
       "         0.03391957,  0.19433634, -0.18623733,  0.2108622 , -0.3142058 ],\n",
       "       [-0.08270499,  0.08883558, -0.03401128,  0.05847103, -0.21126979,\n",
       "         0.09929158,  0.03189868, -0.03564277,  0.00235162, -0.15936019],\n",
       "       [ 0.24595333,  0.10007849,  0.34085257, -0.1082861 ,  0.07109789,\n",
       "        -0.06586149,  0.10384288,  0.02085662, -0.0647848 ,  0.16676563],\n",
       "       [-0.049959  , -0.09912122,  0.01601177,  0.06072197, -0.08166642,\n",
       "         0.03114192, -0.26486665,  0.11652537,  0.01451811,  0.06779609],\n",
       "       [-0.10993789, -0.05220275, -0.0038277 ,  0.07805642,  0.20140527,\n",
       "         0.02842865,  0.50606044, -0.13968244, -0.01766546, -0.00247259],\n",
       "       [ 0.10216472, -0.05281267, -0.1391944 ,  0.01800999,  0.191044  ,\n",
       "        -0.16332775, -0.03285714,  0.03957366,  0.04090347,  0.06780572],\n",
       "       [-0.11127079,  0.11838517, -0.43300647,  0.00499383, -0.03145467,\n",
       "        -0.01498122,  0.14391332, -0.17396072,  0.00483609, -0.13125737],\n",
       "       [ 0.03965402, -0.0812893 , -0.0281679 ,  0.09916563,  0.03389653,\n",
       "        -0.03805184,  0.10545067,  0.11472715,  0.04506425, -0.12409131],\n",
       "       [ 0.12827813,  0.44447031,  0.10435418, -0.19669398,  0.07667089,\n",
       "        -0.03152181, -0.47796867, -0.1559775 ,  0.01647365, -0.27052755],\n",
       "       [-0.02627336,  0.02462645, -0.04754456, -0.0472434 , -0.13515033,\n",
       "         0.01282962, -0.05973572,  0.04250467, -0.01327604,  0.14221006],\n",
       "       [-0.15288462, -0.06848029, -0.11315519,  0.03239334,  0.30326179,\n",
       "         0.00371058,  0.14018676,  0.33898554, -0.11459615,  0.17672134],\n",
       "       [-0.04906199,  0.027524  ,  0.24721231,  0.12433673, -0.06457034,\n",
       "         0.09925918, -0.22793169,  0.0840042 , -0.01679051, -0.08983306],\n",
       "       [-0.07759694, -0.39615867,  0.11741547, -0.01935829, -0.05553414,\n",
       "         0.10745198,  0.00110515,  0.30522728,  0.05821745, -0.00636957],\n",
       "       [ 0.08015671, -0.07829642, -0.02485709, -0.09413408,  0.32874676,\n",
       "        -0.13647927,  0.09280757, -0.13457204, -0.07610757,  0.03181293],\n",
       "       [ 0.13796498,  0.34663769, -0.15322535,  0.188118  , -0.10550133,\n",
       "        -0.07973348,  0.09604059, -0.29292357,  0.05881941, -0.33935446],\n",
       "       [-0.10064343,  0.23258981, -0.01423702, -0.09661033, -0.20913387,\n",
       "         0.06303669,  0.04385048, -0.0052811 , -0.10956273, -0.05898988],\n",
       "       [ 0.07428531, -0.17124483, -0.14814598,  0.02840182,  0.24733925,\n",
       "        -0.01831074,  0.096402  ,  0.15035581, -0.06738344,  0.33021695]])"
      ]
     },
     "execution_count": 19,
     "metadata": {},
     "output_type": "execute_result"
    }
   ],
   "source": [
    "estimator.Theta"
   ]
  },
  {
   "cell_type": "markdown",
   "metadata": {},
   "source": [
    "## Testing stuff"
   ]
  },
  {
   "cell_type": "code",
   "execution_count": 13,
   "metadata": {},
   "outputs": [],
   "source": [
    "\n",
    "##########################\n",
    "\n",
    "Cg, Cn, ptime = vd_reml(indata, verbose=False)\n",
    "#gwas = GWAS(datainput=indata, verbose=False)"
   ]
  },
  {
   "cell_type": "code",
   "execution_count": 14,
   "metadata": {},
   "outputs": [
    {
     "data": {
      "text/plain": [
       "array([[ 0.03847333,  0.00289154, -0.03833569,  0.0502919 , -0.00140568,\n",
       "        -0.04882837,  0.044608  ,  0.02917599, -0.01811099, -0.0144089 ],\n",
       "       [ 0.00289154,  0.06364759, -0.02286691,  0.01153651,  0.02850815,\n",
       "         0.00206946, -0.02808302, -0.02756487,  0.01988609, -0.02490405],\n",
       "       [-0.03833569, -0.02286691,  0.0802884 , -0.09324748, -0.04987963,\n",
       "         0.05074036, -0.05887076, -0.05307189,  0.02378802,  0.05403899],\n",
       "       [ 0.0502919 ,  0.01153651, -0.09324748,  0.12159661,  0.05670872,\n",
       "        -0.07852476,  0.08452257,  0.08090183, -0.0353503 , -0.05516368],\n",
       "       [-0.00140568,  0.02850815, -0.04987963,  0.05670872,  0.07943548,\n",
       "        -0.0050005 ,  0.01398618,  0.03497332, -0.00546859, -0.05513013],\n",
       "       [-0.04882837,  0.00206946,  0.05074036, -0.07852476, -0.0050005 ,\n",
       "         0.0803708 , -0.0686989 , -0.06395477,  0.02976621,  0.00934537],\n",
       "       [ 0.044608  , -0.02808302, -0.05887076,  0.08452257,  0.01398618,\n",
       "        -0.0686989 ,  0.09192241,  0.09783023, -0.04832124, -0.01986214],\n",
       "       [ 0.02917599, -0.02756487, -0.05307189,  0.08090183,  0.03497332,\n",
       "        -0.06395477,  0.09783023,  0.15980243, -0.06407795, -0.01128669],\n",
       "       [-0.01811099,  0.01988609,  0.02378802, -0.0353503 , -0.00546859,\n",
       "         0.02976621, -0.04832124, -0.06407795,  0.02985056,  0.0046436 ],\n",
       "       [-0.0144089 , -0.02490405,  0.05403899, -0.05516368, -0.05513013,\n",
       "         0.00934537, -0.01986214, -0.01128669,  0.0046436 ,  0.05708185]])"
      ]
     },
     "execution_count": 14,
     "metadata": {},
     "output_type": "execute_result"
    }
   ],
   "source": [
    "Cg"
   ]
  },
  {
   "cell_type": "code",
   "execution_count": 15,
   "metadata": {},
   "outputs": [],
   "source": [
    "n=indata.phenotypes.shape[0]"
   ]
  },
  {
   "cell_type": "code",
   "execution_count": 66,
   "metadata": {},
   "outputs": [],
   "source": [
    "q=indata.phenotypes.shape[1]\n",
    "p=indata.genotypes.shape[1]"
   ]
  },
  {
   "cell_type": "code",
   "execution_count": 17,
   "metadata": {},
   "outputs": [],
   "source": [
    "H=np.kron(indata.relatedness,Cg)+np.kron(np.ones((n,n)),Cn)"
   ]
  },
  {
   "cell_type": "code",
   "execution_count": 18,
   "metadata": {},
   "outputs": [],
   "source": [
    "#Hinv=np.linalg.inv(H)"
   ]
  },
  {
   "cell_type": "code",
   "execution_count": 69,
   "metadata": {},
   "outputs": [
    {
     "data": {
      "text/plain": [
       "1000"
      ]
     },
     "execution_count": 69,
     "metadata": {},
     "output_type": "execute_result"
    }
   ],
   "source": [
    "n"
   ]
  },
  {
   "cell_type": "code",
   "execution_count": 23,
   "metadata": {},
   "outputs": [],
   "source": [
    "import torch\n",
    "H_cpu = torch.tensor(H, device='cpu')\n",
    "Hinv_cpu = torch.inverse(H_cpu)\n",
    "Hinv_cpu_s = torch.cholesky(Hinv_cpu)"
   ]
  },
  {
   "cell_type": "code",
   "execution_count": 24,
   "metadata": {},
   "outputs": [],
   "source": [
    "Hinv_s = Hinv_cpu_s.numpy()"
   ]
  },
  {
   "cell_type": "code",
   "execution_count": 33,
   "metadata": {},
   "outputs": [
    {
     "data": {
      "text/plain": [
       "array([[ 7.65718631e+01,  0.00000000e+00,  0.00000000e+00, ...,\n",
       "         0.00000000e+00,  0.00000000e+00,  0.00000000e+00],\n",
       "       [-1.74513848e+01,  4.12378584e+01,  0.00000000e+00, ...,\n",
       "         0.00000000e+00,  0.00000000e+00,  0.00000000e+00],\n",
       "       [-1.42864283e+01,  5.99904897e+01,  4.44980547e+01, ...,\n",
       "         0.00000000e+00,  0.00000000e+00,  0.00000000e+00],\n",
       "       ...,\n",
       "       [ 1.30020525e-02, -4.35135960e-02,  4.24132955e-02, ...,\n",
       "         1.13756304e+00,  0.00000000e+00,  0.00000000e+00],\n",
       "       [ 3.18439438e-02, -2.70886917e-02,  1.80370636e-02, ...,\n",
       "         5.80120363e-01,  1.08340918e+00,  0.00000000e+00],\n",
       "       [ 9.13057405e-02,  3.19908321e-02, -5.83037914e-02, ...,\n",
       "         1.33612036e-01,  4.16071513e-01,  1.00031168e+00]])"
      ]
     },
     "execution_count": 33,
     "metadata": {},
     "output_type": "execute_result"
    }
   ],
   "source": [
    "Hinv_s"
   ]
  },
  {
   "cell_type": "code",
   "execution_count": 39,
   "metadata": {},
   "outputs": [
    {
     "data": {
      "text/plain": [
       "(10000, 10000)"
      ]
     },
     "execution_count": 39,
     "metadata": {},
     "output_type": "execute_result"
    }
   ],
   "source": [
    "Hinv_s.shape"
   ]
  },
  {
   "cell_type": "code",
   "execution_count": 47,
   "metadata": {},
   "outputs": [],
   "source": [
    "Y=indata.phenotypes.to_numpy()\n",
    "y=np.matrix.flatten(Y,'F')"
   ]
  },
  {
   "cell_type": "code",
   "execution_count": 55,
   "metadata": {},
   "outputs": [],
   "source": [
    "x= indata.genotypes.to_numpy()\n",
    "X= np.kron(np.identity(q),x)"
   ]
  },
  {
   "cell_type": "code",
   "execution_count": 58,
   "metadata": {},
   "outputs": [],
   "source": [
    "ytilde=Hinv_s @ y\n",
    "Xtilde=Hinv_s @ X"
   ]
  },
  {
   "cell_type": "code",
   "execution_count": 59,
   "metadata": {},
   "outputs": [
    {
     "data": {
      "text/plain": [
       "(10000, 200)"
      ]
     },
     "execution_count": 59,
     "metadata": {},
     "output_type": "execute_result"
    }
   ],
   "source": [
    "Xtilde.shape"
   ]
  },
  {
   "cell_type": "code",
   "execution_count": 62,
   "metadata": {},
   "outputs": [],
   "source": [
    "#from glmnet import glmnet, glmnetSet"
   ]
  },
  {
   "cell_type": "code",
   "execution_count": 64,
   "metadata": {},
   "outputs": [
    {
     "data": {
      "text/plain": [
       "Lasso(alpha=0.1, fit_intercept=False)"
      ]
     },
     "execution_count": 64,
     "metadata": {},
     "output_type": "execute_result"
    }
   ],
   "source": [
    "from sklearn import linear_model\n",
    "clf=linear_model.Lasso(alpha=0.1,fit_intercept=False)\n",
    "clf.fit(X=Xtilde,y=ytilde)"
   ]
  },
  {
   "cell_type": "code",
   "execution_count": 65,
   "metadata": {},
   "outputs": [
    {
     "name": "stdout",
     "output_type": "stream",
     "text": [
      "[ 0.05503209 -0.07023315 -0.         -0.17351879  0.16084125 -0.00826001\n",
      " -0.00208571 -0.05452381 -0.00482707  0.07513887 -0.02855315 -0.24322986\n",
      "  0.17938708  0.12611488 -0.14450555 -0.03799008  0.03258278  0.21373953\n",
      "  0.11099727 -0.25649907  0.03549984 -0.03091668 -0.12846505 -0.11322337\n",
      "  0.24166141 -0.06271374  0.19117842  0.00907389 -0.00387544 -0.04902782\n",
      " -0.05987961  0.47890961 -0.23971922  0.08814588 -0.17917139  0.03348006\n",
      "  0.19144489 -0.18444629  0.21011944 -0.31271743 -0.08265286  0.08867074\n",
      " -0.03119253  0.05775535 -0.21054143  0.09867941  0.02996047 -0.035046\n",
      "  0.00403954 -0.15881513  0.24583397  0.09910783  0.33734139 -0.10743604\n",
      "  0.06943324 -0.06556361  0.10024557  0.01906536 -0.0639536   0.16522135\n",
      " -0.04961631 -0.0989367   0.0133134   0.06008094 -0.08116815  0.03072792\n",
      " -0.2632546   0.11649148  0.01422528  0.06742333 -0.1096657  -0.05069834\n",
      " -0.00448895  0.07745685  0.19966074  0.02795085  0.50341123 -0.13828603\n",
      " -0.01705593 -0.00371651  0.1020203  -0.05229147 -0.13595121  0.0176171\n",
      "  0.1899025  -0.16279025 -0.03147793  0.03939367  0.0408358   0.06738714\n",
      " -0.11094758  0.11596469 -0.4302379   0.00942436 -0.02972314 -0.01470364\n",
      "  0.14104374 -0.17199045  0.00888658 -0.12962696  0.03928985 -0.08049981\n",
      " -0.02468177  0.09748651  0.03304579 -0.03728516  0.10355501  0.11432625\n",
      "  0.0445165  -0.12355705  0.12812788  0.44346731  0.10038397 -0.19566382\n",
      "  0.07431147 -0.03115807 -0.47476006 -0.15382707  0.0156209  -0.26841666\n",
      " -0.02589929  0.02407683 -0.04441023 -0.04559266 -0.13435192  0.01223406\n",
      " -0.05815044  0.04234406 -0.01280037  0.14168073 -0.15240451 -0.06671146\n",
      " -0.10890077  0.03147778  0.30111652  0.00688331  0.13624072  0.33696589\n",
      " -0.11344392  0.17472425 -0.04875102  0.02727002  0.24425125  0.12358079\n",
      " -0.06393364  0.09854204 -0.22722923  0.08362136 -0.01647379 -0.0893018\n",
      " -0.07722808 -0.39383135  0.11314064 -0.01898121 -0.05354925  0.10693082\n",
      "  0.          0.30361106  0.05787337 -0.01132386  0.07960727 -0.07780972\n",
      " -0.01935555 -0.09282366  0.32748744 -0.13590919  0.09130933 -0.13395783\n",
      " -0.07517414  0.03102593  0.13757736  0.34347612 -0.14913051  0.18705926\n",
      " -0.10267626 -0.07946085  0.09152066 -0.29079473  0.05794499 -0.33641738\n",
      " -0.10058623  0.23174874 -0.00929382 -0.09537902 -0.20797823  0.06188818\n",
      "  0.04134531 -0.0100188  -0.10920792 -0.05859279  0.07381323 -0.16862684\n",
      " -0.14344925  0.02760156  0.24483599 -0.01761276  0.09129523  0.14736076\n",
      " -0.06617795  0.32717905]\n"
     ]
    }
   ],
   "source": [
    "print(clf.coef_)"
   ]
  },
  {
   "cell_type": "code",
   "execution_count": null,
   "metadata": {},
   "outputs": [],
   "source": []
  },
  {
   "cell_type": "code",
   "execution_count": 71,
   "metadata": {},
   "outputs": [],
   "source": [
    "beta=np.reshape(clf.coef_,(p,q),'F')"
   ]
  },
  {
   "cell_type": "code",
   "execution_count": 75,
   "metadata": {},
   "outputs": [],
   "source": [
    "newY=Y-x@beta"
   ]
  },
  {
   "cell_type": "code",
   "execution_count": 79,
   "metadata": {},
   "outputs": [],
   "source": [
    "#update residuals for new cova estimation step\n",
    "indata.phenotypes= pd.DataFrame(newY, index=indata.pheno_samples,\n",
    "                                       columns=indata.phenotype_ID)"
   ]
  },
  {
   "cell_type": "code",
   "execution_count": null,
   "metadata": {},
   "outputs": [],
   "source": [
    "#need to transform X and Y based on estimated Cn and Ce\n",
    "\n",
    "estimator = model.MultiTaskLR()\n",
    "\n",
    "# estimate weights\n",
    "theta_hat = estimator.individual_lasso(X, Y)\n",
    "WW, L = estimator.give_weights(theta_hat)\n",
    "\n",
    "# training\n",
    "Theta= estimator.MTLR(X, Y, WW, L, C1=1000, C2=20, gamma=0.003)"
   ]
  },
  {
   "cell_type": "code",
   "execution_count": null,
   "metadata": {},
   "outputs": [],
   "source": [
    "datalimmbo = LiMMBo(datainput=indata,\n",
    "                            S=options.S,\n",
    "                            timing=options.timing,\n",
    "                            iterations=options.iterations,\n",
    "                            verbose=options.verbose)\n",
    "resultsBS = datalimmbo.runBootstrapCovarianceEstimation(seed=options.seed, cpus=options.cpus,minCooccurrence=options.minCooccurrence,n=options.runs)\n",
    "resultsCovariance = datalimmbo.combineBootstrap(results=resultsBS)"
   ]
  }
 ],
 "metadata": {
  "kernelspec": {
   "display_name": "Python 3",
   "language": "python",
   "name": "python3"
  },
  "language_info": {
   "codemirror_mode": {
    "name": "ipython",
    "version": 3
   },
   "file_extension": ".py",
   "mimetype": "text/x-python",
   "name": "python",
   "nbconvert_exporter": "python",
   "pygments_lexer": "ipython3",
   "version": "3.8.5"
  }
 },
 "nbformat": 4,
 "nbformat_minor": 4
}
